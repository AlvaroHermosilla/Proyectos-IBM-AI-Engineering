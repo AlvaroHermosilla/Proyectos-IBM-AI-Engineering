{
 "cells": [
  {
   "cell_type": "markdown",
   "id": "43772139",
   "metadata": {},
   "source": [
    "# Final Project: League of Legends Match Predictor"
   ]
  },
  {
   "cell_type": "code",
   "execution_count": 2,
   "id": "36ee63f4",
   "metadata": {},
   "outputs": [],
   "source": [
    "# Importamos las librerias.\n",
    "import numpy as np\n",
    "import pandas as pd\n",
    "import torch\n",
    "import sklearn as sk\n",
    "import matplotlib.pyplot as plt"
   ]
  },
  {
   "cell_type": "markdown",
   "id": "801cf98a",
   "metadata": {},
   "source": [
    "## Step 1: Data Loading and Preprocessing"
   ]
  },
  {
   "cell_type": "code",
   "execution_count": 3,
   "id": "177d4bd1",
   "metadata": {},
   "outputs": [
    {
     "data": {
      "text/html": [
       "<div>\n",
       "<style scoped>\n",
       "    .dataframe tbody tr th:only-of-type {\n",
       "        vertical-align: middle;\n",
       "    }\n",
       "\n",
       "    .dataframe tbody tr th {\n",
       "        vertical-align: top;\n",
       "    }\n",
       "\n",
       "    .dataframe thead th {\n",
       "        text-align: right;\n",
       "    }\n",
       "</style>\n",
       "<table border=\"1\" class=\"dataframe\">\n",
       "  <thead>\n",
       "    <tr style=\"text-align: right;\">\n",
       "      <th></th>\n",
       "      <th>win</th>\n",
       "      <th>kills</th>\n",
       "      <th>deaths</th>\n",
       "      <th>assists</th>\n",
       "      <th>gold_earned</th>\n",
       "      <th>cs</th>\n",
       "      <th>wards_placed</th>\n",
       "      <th>wards_killed</th>\n",
       "      <th>damage_dealt</th>\n",
       "    </tr>\n",
       "  </thead>\n",
       "  <tbody>\n",
       "    <tr>\n",
       "      <th>0</th>\n",
       "      <td>0</td>\n",
       "      <td>16</td>\n",
       "      <td>6</td>\n",
       "      <td>19</td>\n",
       "      <td>17088</td>\n",
       "      <td>231</td>\n",
       "      <td>11</td>\n",
       "      <td>7</td>\n",
       "      <td>15367</td>\n",
       "    </tr>\n",
       "    <tr>\n",
       "      <th>1</th>\n",
       "      <td>1</td>\n",
       "      <td>8</td>\n",
       "      <td>8</td>\n",
       "      <td>5</td>\n",
       "      <td>14865</td>\n",
       "      <td>259</td>\n",
       "      <td>10</td>\n",
       "      <td>2</td>\n",
       "      <td>38332</td>\n",
       "    </tr>\n",
       "    <tr>\n",
       "      <th>2</th>\n",
       "      <td>0</td>\n",
       "      <td>0</td>\n",
       "      <td>17</td>\n",
       "      <td>11</td>\n",
       "      <td>15919</td>\n",
       "      <td>169</td>\n",
       "      <td>14</td>\n",
       "      <td>5</td>\n",
       "      <td>24642</td>\n",
       "    </tr>\n",
       "    <tr>\n",
       "      <th>3</th>\n",
       "      <td>0</td>\n",
       "      <td>19</td>\n",
       "      <td>11</td>\n",
       "      <td>1</td>\n",
       "      <td>11534</td>\n",
       "      <td>264</td>\n",
       "      <td>14</td>\n",
       "      <td>3</td>\n",
       "      <td>15789</td>\n",
       "    </tr>\n",
       "    <tr>\n",
       "      <th>4</th>\n",
       "      <td>0</td>\n",
       "      <td>12</td>\n",
       "      <td>7</td>\n",
       "      <td>6</td>\n",
       "      <td>18926</td>\n",
       "      <td>124</td>\n",
       "      <td>15</td>\n",
       "      <td>7</td>\n",
       "      <td>40268</td>\n",
       "    </tr>\n",
       "  </tbody>\n",
       "</table>\n",
       "</div>"
      ],
      "text/plain": [
       "   win  kills  deaths  assists  gold_earned   cs  wards_placed  wards_killed  \\\n",
       "0    0     16       6       19        17088  231            11             7   \n",
       "1    1      8       8        5        14865  259            10             2   \n",
       "2    0      0      17       11        15919  169            14             5   \n",
       "3    0     19      11        1        11534  264            14             3   \n",
       "4    0     12       7        6        18926  124            15             7   \n",
       "\n",
       "   damage_dealt  \n",
       "0         15367  \n",
       "1         38332  \n",
       "2         24642  \n",
       "3         15789  \n",
       "4         40268  "
      ]
     },
     "execution_count": 3,
     "metadata": {},
     "output_type": "execute_result"
    }
   ],
   "source": [
    "df = pd.read_csv('league_of_legends_data_large.csv')\n",
    "seed = 42\n",
    "df.head()"
   ]
  },
  {
   "cell_type": "code",
   "execution_count": 4,
   "id": "e0b6be73",
   "metadata": {},
   "outputs": [],
   "source": [
    "X = df.drop(columns='win', axis=1)\n",
    "Y = df['win']\n",
    "\n",
    "# Dividimos los datos en entrenamiento y test\n",
    "from sklearn.model_selection import train_test_split        \n",
    "X_train, X_test, Y_train, Y_test = train_test_split(X, Y, test_size=0.2, random_state=42)\n",
    "# Normalizamos los datos\n",
    "from sklearn.preprocessing import StandardScaler\n",
    "scaler_X = StandardScaler()\n",
    "X_train = scaler_X.fit_transform(X_train)\n",
    "X_test = scaler_X.transform(X_test)\n",
    "# Convertimos los datos a tensores de PyTorch\n",
    "X_train = torch.tensor(X_train, dtype=torch.float32)\n",
    "X_test = torch.tensor(X_test, dtype=torch.float32)\n",
    "Y_train = torch.tensor(Y_train.values, dtype=torch.float32).unsqueeze(1)\n",
    "Y_test = torch.tensor(Y_test.values, dtype=torch.float32).unsqueeze(1)"
   ]
  },
  {
   "cell_type": "markdown",
   "id": "b0df854d",
   "metadata": {},
   "source": [
    "## Step 2: Logistic Regression Model"
   ]
  },
  {
   "cell_type": "code",
   "execution_count": 5,
   "id": "86276128",
   "metadata": {},
   "outputs": [],
   "source": [
    "class LogisticRegressionModel(torch.nn.Module):\n",
    "    def __init__(self,input_size):\n",
    "        super(LogisticRegressionModel,self).__init__()\n",
    "        self.linear = torch.nn.Linear(input_size, 1)\n",
    "    \n",
    "    def forward(self,x):\n",
    "        out = torch.sigmoid(self.linear(x))\n",
    "        return out\n",
    "\n",
    "input_size = X_train.shape[1]\n",
    "model = LogisticRegressionModel(input_size)\n",
    "\n",
    "criterion = torch.nn.BCELoss()\n",
    "optimizer = torch.optim.SGD(model.parameters(), lr=0.01)"
   ]
  },
  {
   "cell_type": "markdown",
   "id": "e382a5e9",
   "metadata": {},
   "source": [
    "## Step 3: Model Training"
   ]
  },
  {
   "cell_type": "code",
   "execution_count": 6,
   "id": "dd33f5d3",
   "metadata": {},
   "outputs": [
    {
     "name": "stdout",
     "output_type": "stream",
     "text": [
      "Epoch [100/1000], Loss: 0.6994\n",
      "Epoch [200/1000], Loss: 0.6935\n",
      "Epoch [300/1000], Loss: 0.6900\n",
      "Epoch [400/1000], Loss: 0.6880\n",
      "Epoch [500/1000], Loss: 0.6869\n",
      "Epoch [600/1000], Loss: 0.6862\n",
      "Epoch [700/1000], Loss: 0.6858\n",
      "Epoch [800/1000], Loss: 0.6856\n",
      "Epoch [900/1000], Loss: 0.6854\n",
      "Epoch [1000/1000], Loss: 0.6854\n",
      "Test Accuracy: 0.4950\n",
      "Train Accuracy: 0.5500\n"
     ]
    }
   ],
   "source": [
    "# Numero de epochs\n",
    "num_epochs = 1000\n",
    "# Bucle de entrenamiento\n",
    "for epoch in range(num_epochs):\n",
    "    model.train()\n",
    "    optimizer.zero_grad()\n",
    "    output = model(X_train)\n",
    "    loss = criterion(output, Y_train)\n",
    "    loss.backward()\n",
    "    optimizer.step()\n",
    "    if (epoch+1) % 100 == 0:\n",
    "        print(f'Epoch [{epoch+1}/{num_epochs}], Loss: {loss.item():.4f}')\n",
    "\n",
    "model.eval()\n",
    "with torch.no_grad():\n",
    "    model.eval()\n",
    "    torch.no_grad()\n",
    "    # Predicciones\n",
    "    test_output = model(X_test)\n",
    "    train_output = model(X_train)\n",
    "    # Umbral de 0.5 para clasificar\n",
    "    Y_pred_classes = (test_output > 0.5).float()\n",
    "    Y_train_classes = (train_output > 0.5).float()\n",
    "    # Calcular la precisión\n",
    "    from sklearn.metrics import accuracy_score\n",
    "    test_accuracy = accuracy_score(Y_test, Y_pred_classes)\n",
    "    train_accuracy = accuracy_score(Y_train, Y_train_classes)\n",
    "\n",
    "print(f'Test Accuracy: {test_accuracy:.4f}')\n",
    "print(f'Train Accuracy: {train_accuracy:.4f}')\n"
   ]
  },
  {
   "cell_type": "markdown",
   "id": "477e1cd5",
   "metadata": {},
   "source": [
    "## Step 4: Model Optimization and Evaluation"
   ]
  },
  {
   "cell_type": "code",
   "execution_count": 7,
   "id": "d499e440",
   "metadata": {},
   "outputs": [
    {
     "name": "stdout",
     "output_type": "stream",
     "text": [
      "Epoch [100/1000], Loss: 0.6853\n",
      "Epoch [200/1000], Loss: 0.6853\n",
      "Epoch [300/1000], Loss: 0.6853\n",
      "Epoch [400/1000], Loss: 0.6853\n",
      "Epoch [500/1000], Loss: 0.6853\n",
      "Epoch [600/1000], Loss: 0.6853\n",
      "Epoch [700/1000], Loss: 0.6853\n",
      "Epoch [800/1000], Loss: 0.6853\n",
      "Epoch [900/1000], Loss: 0.6853\n",
      "Epoch [1000/1000], Loss: 0.6853\n",
      "Test Accuracy: 0.5100\n",
      "Train Accuracy: 0.5450\n"
     ]
    }
   ],
   "source": [
    "from torch import optim\n",
    "# Cambiamos el optimizador.\n",
    "optimizer = optim.SGD(model.parameters(), lr=0.01, weight_decay=0.01)\n",
    "for epoch in range(num_epochs):\n",
    "    model.train()\n",
    "    optimizer.zero_grad()\n",
    "    output = model(X_train)\n",
    "    loss = criterion(output, Y_train)\n",
    "    loss.backward()\n",
    "    optimizer.step()\n",
    "    if (epoch+1) % 100 == 0:\n",
    "        print(f'Epoch [{epoch+1}/{num_epochs}], Loss: {loss.item():.4f}')\n",
    "\n",
    "\n",
    "with torch.no_grad():\n",
    "    model.eval()\n",
    "    torch.no_grad()\n",
    "    # Predicciones\n",
    "    test_output = model(X_test)\n",
    "    train_output = model(X_train)\n",
    "    # Umbral de 0.5 para clasificar\n",
    "    Y_pred_classes = (test_output > 0.5).float()\n",
    "    Y_train_classes = (train_output > 0.5).float()\n",
    "    # Calcular la precisión\n",
    "    from sklearn.metrics import accuracy_score\n",
    "    test_accuracy = accuracy_score(Y_test, Y_pred_classes)\n",
    "    train_accuracy = accuracy_score(Y_train, Y_train_classes)\n",
    "print(f'Test Accuracy: {test_accuracy:.4f}')\n",
    "print(f'Train Accuracy: {train_accuracy:.4f}')"
   ]
  },
  {
   "cell_type": "markdown",
   "id": "d3e26acd",
   "metadata": {},
   "source": [
    "## Step 5: Visualization and Interpretation"
   ]
  },
  {
   "cell_type": "code",
   "execution_count": 8,
   "id": "be51e0d3",
   "metadata": {},
   "outputs": [
    {
     "data": {
      "image/png": "[encoded data removed]",
      "text/plain": [
       "<Figure size 640x480 with 2 Axes>"
      ]
     },
     "metadata": {},
     "output_type": "display_data"
    }
   ],
   "source": [
    "from sklearn.metrics import confusion_matrix, ConfusionMatrixDisplay,roc_auc_score, roc_curve,auc,classification_report\n",
    "from sklearn.model_selection import GridSearchCV\n",
    "# Convertimos a arrays\n",
    "y_true = Y_test.numpy()\n",
    "y_pred = Y_pred_classes.numpy()\n",
    "# Calculamos la matriz de confusión\n",
    "conf_matrix = confusion_matrix(y_true,y_pred)\n",
    "disp = ConfusionMatrixDisplay(confusion_matrix=conf_matrix)\n",
    "# Ploteamos la matriz de confusión\n",
    "disp.plot(cmap=plt.cm.Blues)\n",
    "plt.title('Confusion Matrix')\n",
    "plt.show()\n"
   ]
  },
  {
   "cell_type": "code",
   "execution_count": 9,
   "id": "9c547cbd",
   "metadata": {},
   "outputs": [
    {
     "data": {
      "image/png": "[encoded data removed]",
      "text/plain": [
       "<Figure size 640x480 with 1 Axes>"
      ]
     },
     "metadata": {},
     "output_type": "display_data"
    }
   ],
   "source": [
    "# Convertimos a numpy\n",
    "y_true = Y_test.numpy()\n",
    "y_scores = Y_pred_classes.numpy()\n",
    "\n",
    "#  Calculamos la curva ROC\n",
    "fpr, tpr, thresholds = roc_curve(y_true, y_scores)\n",
    "roc_auc = auc(fpr, tpr)\n",
    "\n",
    "# Ploteamos la curva ROC\n",
    "plt.plot(fpr, tpr, label=f'ROC curve (AUC = {roc_auc:.2f})')\n",
    "plt.plot([0, 1], [0, 1], linestyle='--')  # Diagonal\n",
    "plt.xlabel('False Positive Rate')\n",
    "plt.ylabel('True Positive Rate')\n",
    "plt.title('Receiver Operating Characteristic (ROC) Curve')\n",
    "plt.legend(loc='lower right')\n",
    "plt.show()"
   ]
  },
  {
   "cell_type": "code",
   "execution_count": 10,
   "id": "a910ba61",
   "metadata": {},
   "outputs": [
    {
     "name": "stdout",
     "output_type": "stream",
     "text": [
      "Classification Report:\n",
      "\n",
      "              precision    recall  f1-score   support\n",
      "\n",
      "         0.0       0.48      0.42      0.45        95\n",
      "         1.0       0.53      0.59      0.56       105\n",
      "\n",
      "    accuracy                           0.51       200\n",
      "   macro avg       0.51      0.51      0.50       200\n",
      "weighted avg       0.51      0.51      0.51       200\n",
      "\n"
     ]
    }
   ],
   "source": [
    "\n",
    "# Convertir a arrays\n",
    "y_true = Y_test.numpy()\n",
    "y_pred = Y_pred_classes.numpy()\n",
    "\n",
    "# Classification report\n",
    "report = classification_report(y_true, y_pred)\n",
    "print(\"Classification Report:\\n\")\n",
    "print(report)"
   ]
  },
  {
   "cell_type": "markdown",
   "id": "dcd6621e",
   "metadata": {},
   "source": [
    "## Step 6: Model Saving and Loading"
   ]
  },
  {
   "cell_type": "code",
   "execution_count": 11,
   "id": "343b4d5a",
   "metadata": {},
   "outputs": [
    {
     "name": "stdout",
     "output_type": "stream",
     "text": [
      "Test Accuracy after loading: 51.00%\n"
     ]
    }
   ],
   "source": [
    "# Guardar los pesos del modelo\n",
    "torch.save(model.state_dict(), \"logistic_model.pth\")\n",
    "# Cargamos una nueva instancia del modelo\n",
    "new_model = LogisticRegressionModel(input_size)\n",
    "new_model.load_state_dict(torch.load(\"logistic_model.pth\"))\n",
    "# Evaluamos el modelo cargado\n",
    "new_model.eval()\n",
    "with torch.no_grad():\n",
    "    test_outputs = new_model(X_test)\n",
    "    test_pred = (test_outputs >= 0.5).float()\n",
    "    test_accuracy = (test_pred == Y_test).float().mean().item()\n",
    "print(f\"Test Accuracy after loading: {test_accuracy*100:.2f}%\")"
   ]
  },
  {
   "cell_type": "markdown",
   "id": "31becb9f",
   "metadata": {},
   "source": [
    "## Step 7: Hyperparameter Tuning"
   ]
  },
  {
   "cell_type": "code",
   "execution_count": 12,
   "id": "82486c16",
   "metadata": {},
   "outputs": [
    {
     "name": "stdout",
     "output_type": "stream",
     "text": [
      "Test Accuracy with learning rate 0.01: 0.5050\n",
      "Train Accuracy with learning rate 0.01: 0.5450\n",
      "Test Accuracy with learning rate 0.05: 0.5050\n",
      "Train Accuracy with learning rate 0.05: 0.5437\n",
      "Test Accuracy with learning rate 0.1: 0.5050\n",
      "Train Accuracy with learning rate 0.1: 0.5437\n"
     ]
    }
   ],
   "source": [
    "# Definimos el learning rate\n",
    "learning_rates = [0.01, 0.05, 0.1]\n",
    "for lr in learning_rates:\n",
    "    # Por cada iteración reinicializamos el modelo\n",
    "    opt_model = LogisticRegressionModel(input_size)\n",
    "    optimizer = torch.optim.SGD(opt_model.parameters(), lr=lr)\n",
    "    # Repetimos el entrenamiento\n",
    "    for epoch in range(num_epochs):\n",
    "        opt_model.train()\n",
    "        optimizer.zero_grad()\n",
    "        output = opt_model(X_train)\n",
    "        loss = criterion(output, Y_train)\n",
    "        loss.backward()\n",
    "        optimizer.step()\n",
    "# Evaluamos el modelo con el nuevo learning rate\n",
    "    with torch.no_grad():\n",
    "        opt_model.eval()\n",
    "        torch.no_grad()\n",
    "        # Predicciones\n",
    "        test_output = opt_model(X_test)\n",
    "        train_output = opt_model(X_train)\n",
    "        # Umbral de 0.5 para clasificar\n",
    "        Y_pred_classes = (test_output > 0.5).float()\n",
    "        Y_train_classes = (train_output > 0.5).float()\n",
    "        # Calcular la precisión\n",
    "        test_accuracy = accuracy_score(Y_test, Y_pred_classes)\n",
    "        train_accuracy = accuracy_score(Y_train, Y_train_classes)\n",
    "    print(f'Test Accuracy with learning rate {lr}: {test_accuracy:.4f}')\n",
    "    print(f'Train Accuracy with learning rate {lr}: {train_accuracy:.4f}')\n",
    "\n",
    "\n"
   ]
  },
  {
   "cell_type": "code",
   "execution_count": 13,
   "id": "0b88096b",
   "metadata": {},
   "outputs": [
    {
     "name": "stdout",
     "output_type": "stream",
     "text": [
      "        feature    weight\n",
      "3   gold_earned  0.175342\n",
      "0         kills  0.130974\n",
      "5  wards_placed  0.106087\n",
      "6  wards_killed -0.034605\n",
      "7  damage_dealt -0.018873\n",
      "2       assists -0.013663\n",
      "4            cs -0.007268\n",
      "1        deaths -0.005131\n"
     ]
    },
    {
     "data": {
      "image/png": "[encoded data removed]",
      "text/plain": [
       "<Figure size 800x600 with 1 Axes>"
      ]
     },
     "metadata": {},
     "output_type": "display_data"
    }
   ],
   "source": [
    "weights = opt_model.linear.weight.data.numpy().flatten()\n",
    "\n",
    "# 2) Crear DataFrame con nombre y valor de cada peso\n",
    "feature_importance = pd.DataFrame({\n",
    "    'feature': X.columns,        # o X_train.columns si usaste pandas\n",
    "    'weight':  weights\n",
    "})\n",
    "\n",
    "# 3) Ordenar por el valor absoluto del peso (más importante arriba)\n",
    "feature_importance['abs_weight'] = feature_importance['weight'].abs()\n",
    "feature_importance = feature_importance.sort_values(by='abs_weight', ascending=False)\n",
    "\n",
    "print(feature_importance[['feature', 'weight']])\n",
    "\n",
    "# 4) Visualizar\n",
    "plt.figure(figsize=(8,6))\n",
    "plt.barh(feature_importance['feature'], feature_importance['weight'])\n",
    "plt.xlabel(\"Weight (importance)\")\n",
    "plt.ylabel(\"Feature\")\n",
    "plt.title(\"Feature Importance (Logistic Regression)\")\n",
    "plt.gca().invert_yaxis()   # para que la más importante esté arriba\n",
    "plt.show()"
   ]
  }
 ],
 "metadata": {
  "kernelspec": {
   "display_name": "Python 3",
   "language": "python",
   "name": "python3"
  },
  "language_info": {
   "codemirror_mode": {
    "name": "ipython",
    "version": 3
   },
   "file_extension": ".py",
   "mimetype": "text/x-python",
   "name": "python",
   "nbconvert_exporter": "python",
   "pygments_lexer": "ipython3",
   "version": "3.12.6"
  }
 },
 "nbformat": 4,
 "nbformat_minor": 5
}
